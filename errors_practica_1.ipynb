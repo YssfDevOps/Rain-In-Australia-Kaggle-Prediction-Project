{
  "cells": [
    {
      "cell_type": "markdown",
      "metadata": {
        "id": "7TIMq7B-nfET"
      },
      "source": [
        "# Errors comuns cas kaggle"
      ]
    },
    {
      "cell_type": "markdown",
      "metadata": {
        "id": "KJmyVD4pnh7s"
      },
      "source": [
        "Error 1: Processament de nans i encodings.\n",
        "Cal separar entre train i test previ a fer el tractament!"
      ]
    },
    {
      "cell_type": "code",
      "execution_count": null,
      "metadata": {
        "id": "d18s7YmnnhEd"
      },
      "outputs": [],
      "source": []
    },
    {
      "cell_type": "markdown",
      "metadata": {
        "id": "Dfhj6GK4n5OM"
      },
      "source": [
        "Error 2: Separar train i test seguint splittings"
      ]
    },
    {
      "cell_type": "code",
      "execution_count": null,
      "metadata": {
        "id": "7L6mYHGFoAj7"
      },
      "outputs": [],
      "source": []
    },
    {
      "cell_type": "markdown",
      "metadata": {
        "id": "LoKGjgPzrqpN"
      },
      "source": [
        "Error 3: Fer servir models molt complexes i no provar una regressio logistica"
      ]
    },
    {
      "cell_type": "code",
      "execution_count": null,
      "metadata": {
        "id": "vOuYx6_dru0c"
      },
      "outputs": [],
      "source": []
    },
    {
      "cell_type": "markdown",
      "metadata": {
        "id": "W2jZdnbjpqZM"
      },
      "source": [
        "Error 3: Hiperparametres saturats"
      ]
    },
    {
      "cell_type": "markdown",
      "metadata": {
        "id": "7NZJi4jMpwxw"
      },
      "source": [
        "Es decir que sean extremos."
      ]
    },
    {
      "cell_type": "markdown",
      "metadata": {
        "id": "Dq23PaGYoBoO"
      },
      "source": [
        "Error 3: No elegir el threshold un cop acabat el problema de classificacion"
      ]
    },
    {
      "cell_type": "code",
      "execution_count": null,
      "metadata": {
        "id": "pmH_qqsCoFCV"
      },
      "outputs": [],
      "source": []
    },
    {
      "cell_type": "markdown",
      "metadata": {
        "id": "PCjzdJn1oFdA"
      },
      "source": [
        "Error 4: No analitzar prou profundament esl resultats finals."
      ]
    },
    {
      "cell_type": "code",
      "execution_count": null,
      "metadata": {
        "id": "4QXM2SMBoMfL"
      },
      "outputs": [],
      "source": []
    },
    {
      "cell_type": "markdown",
      "metadata": {
        "id": "9XqwOq6apz7V"
      },
      "source": [
        "# Com plantejar un problema de APC\n",
        "\n",
        "1-Definir uns objectius a complir. Poden ser tipus objectiu tal qual o una hipotesi a validar/pregunta a respondre:\n",
        "\n",
        "* Entrenament d'un model per predir les accions de les empreses de l'Ibex 35.\n",
        "* Creaccio d'un generador de llistes d'spotify personalitzades\n",
        "\n",
        "* Com millora la prediccio del resultat d'una partit a mesura que afegim informacio d'aquest?\n",
        "* Es possible predir la nota d'una pelicula nomes amb el titol?\n",
        "\n"
      ]
    },
    {
      "cell_type": "markdown",
      "metadata": {
        "id": "Z41E5ZLhtdgD"
      },
      "source": [
        "1.5- Separar train i test. No tocar el test fins al final"
      ]
    },
    {
      "cell_type": "markdown",
      "metadata": {
        "id": "4eQ5d8dfqjmq"
      },
      "source": [
        "2- Fer un esboc dels passos a seguir (podeu fer servir la guia de la practica 1):\n",
        "\n",
        "* Quins model/models tinc que entrenar?\n",
        "* QUines son les x i les y d'aquest model?\n",
        "* Quina metrica vull fer servir per evaluar el model?\n",
        "* Vull mirar alguna cosa de les dades previ a entrenar el model?\n",
        "* Quin analisi final tinc que fer per respondre l'hipotesi que m'he plantejat?"
      ]
    },
    {
      "cell_type": "markdown",
      "metadata": {
        "id": "cohmtITCq-fV"
      },
      "source": [
        "3- Construir una solucio gradual. NO te sentit intentar entrenar un model molt complex sense previament haver entrenat una regressio lineal o logistica."
      ]
    },
    {
      "cell_type": "markdown",
      "metadata": {
        "id": "E_E-pDQcr8vZ"
      },
      "source": [
        "4- Realitzar una analisi critic dels resultats. Saber aceptar que els resultats poden ser dolents i donar una explicacio del perque. Comparar els resultats de validacio creuada amb el test"
      ]
    },
    {
      "cell_type": "markdown",
      "metadata": {
        "id": "KKEPNxwlrGHp"
      },
      "source": [
        "# Preguntes tipiques"
      ]
    },
    {
      "cell_type": "markdown",
      "metadata": {
        "id": "xYHafTR8rTx4"
      },
      "source": [
        "Els resultats de la validacio creuada son dolents, que puc fer per millorar-los?\n",
        "* Es el teu model suficientment complex?\n",
        "* Has buscat prou be els hiperparametres?\n",
        "* Tens outliers a les teves dades que estan embrutant l'entrenament?\n",
        "* Es possible que amb les dades que tens fer la prediccio sigui una tasca extremadament complicada? Pots conseguir fer overfitting?\n",
        "* Pots crear noves columnes per ajudar al teu model a conseguir  millor accuracy?\n"
      ]
    },
    {
      "cell_type": "markdown",
      "metadata": {
        "id": "j_Hkg4wOseHu"
      },
      "source": [
        "Els resultats de cross-val del train i test son molt diferents. Que esta passant?\n",
        "\n",
        "* Has estratificat alhora de separar train i test?\n",
        "* Tens algun outlier en el train/test que t'esta fent empitjorar el model?\n",
        "* Has mirat si augmentatnt els splits de cross validacio segueixen sent tant diferents?\n",
        "* Entrena un model per classificar si una fila es de train o de test. Si el model dona bona accuracy, com ho esta fent per classificar?"
      ]
    },
    {
      "cell_type": "markdown",
      "metadata": {
        "id": "rvvHzeIes5SO"
      },
      "source": [
        "Es millor emplenar els nans aixi o com? Es millor fer el encoding amb el promig, amb el target, com ho faig?\n",
        "\n",
        "* Els nans els pots emplenar seguint alguna regla que indiquin les propies dades.\n",
        "* Testeja les diferents formes d'emplenar nans/encodings i comprova quina dona millor accuracy en la validacio creuada.\n",
        "* Pots entrenar un model per predir si una columna es nan o no i veure si existeixin patrons."
      ]
    },
    {
      "cell_type": "code",
      "execution_count": null,
      "metadata": {
        "id": "i_I_FcFNsUaZ"
      },
      "outputs": [],
      "source": []
    }
  ],
  "metadata": {
    "colab": {
      "provenance": []
    },
    "kernelspec": {
      "display_name": "Python 3",
      "name": "python3"
    },
    "language_info": {
      "name": "python"
    }
  },
  "nbformat": 4,
  "nbformat_minor": 0
}
